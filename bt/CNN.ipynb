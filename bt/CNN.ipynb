{
 "cells": [
  {
   "cell_type": "code",
   "execution_count": null,
   "metadata": {},
   "outputs": [],
   "source": []
  },
  {
   "cell_type": "code",
   "execution_count": 9,
   "metadata": {},
   "outputs": [
    {
     "ename": "ValueError",
     "evalue": "not enough values to unpack (expected 4, got 3)",
     "output_type": "error",
     "traceback": [
      "\u001b[0;31m---------------------------------------------------------------------------\u001b[0m",
      "\u001b[0;31mValueError\u001b[0m                                Traceback (most recent call last)",
      "Cell \u001b[0;32mIn[9], line 118\u001b[0m\n\u001b[1;32m    115\u001b[0m \u001b[39m# Training loop\u001b[39;00m\n\u001b[1;32m    116\u001b[0m \u001b[39mfor\u001b[39;00m epoch \u001b[39min\u001b[39;00m \u001b[39mrange\u001b[39m(epochs):\n\u001b[1;32m    117\u001b[0m     \u001b[39m# Feedforward\u001b[39;00m\n\u001b[0;32m--> 118\u001b[0m     conv1_output \u001b[39m=\u001b[39m convolution(image, conv1_weights)\n\u001b[1;32m    119\u001b[0m     conv1_output \u001b[39m=\u001b[39m conv1_output \u001b[39m+\u001b[39m conv1_biases\u001b[39m.\u001b[39mreshape((\u001b[39m1\u001b[39m, \u001b[39m1\u001b[39m, \u001b[39m1\u001b[39m, conv1_filters))\n\u001b[1;32m    120\u001b[0m     conv1_output \u001b[39m=\u001b[39m relu(conv1_output)\n",
      "Cell \u001b[0;32mIn[9], line 15\u001b[0m, in \u001b[0;36mconvolution\u001b[0;34m(image, kernel)\u001b[0m\n\u001b[1;32m     14\u001b[0m \u001b[39mdef\u001b[39;00m \u001b[39mconvolution\u001b[39m(image, kernel):\n\u001b[0;32m---> 15\u001b[0m     batch_size,image_height, image_width, image_channels \u001b[39m=\u001b[39m image\u001b[39m.\u001b[39mshape\n\u001b[1;32m     16\u001b[0m     kernel_height, kernel_width, _, kernel_filters \u001b[39m=\u001b[39m kernel\u001b[39m.\u001b[39mshape\n\u001b[1;32m     17\u001b[0m     output_height \u001b[39m=\u001b[39m image_height \u001b[39m-\u001b[39m kernel_height \u001b[39m+\u001b[39m \u001b[39m1\u001b[39m\n",
      "\u001b[0;31mValueError\u001b[0m: not enough values to unpack (expected 4, got 3)"
     ]
    }
   ],
   "source": []
  }
 ],
 "metadata": {
  "kernelspec": {
   "display_name": "Python 3",
   "language": "python",
   "name": "python3"
  },
  "language_info": {
   "codemirror_mode": {
    "name": "ipython",
    "version": 3
   },
   "file_extension": ".py",
   "mimetype": "text/x-python",
   "name": "python",
   "nbconvert_exporter": "python",
   "pygments_lexer": "ipython3",
   "version": "3.11.3"
  },
  "orig_nbformat": 4
 },
 "nbformat": 4,
 "nbformat_minor": 2
}
